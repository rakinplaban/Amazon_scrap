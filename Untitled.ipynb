{
 "cells": [
  {
   "cell_type": "markdown",
   "id": "4104be2e",
   "metadata": {},
   "source": [
    "# Import Libraties"
   ]
  },
  {
   "cell_type": "code",
   "execution_count": 1,
   "id": "43d6c960",
   "metadata": {},
   "outputs": [],
   "source": [
    "from bs4 import BeautifulSoup\n",
    "import requests\n",
    "import time\n",
    "import datetime\n",
    "import smtplib\n",
    "import csv\n",
    "import pandas as pd\n",
    "import re"
   ]
  },
  {
   "cell_type": "markdown",
   "id": "e3e10a26",
   "metadata": {},
   "source": [
    "Connect to the website. <br>\n",
    "In this case I have to work with html.parser. Because, lxml will show error."
   ]
  },
  {
   "cell_type": "code",
   "execution_count": 2,
   "id": "bf88a50f",
   "metadata": {},
   "outputs": [],
   "source": [
    "# connect to website\n",
    "# In this case I have to work with html.parser. Because, lxml will show error.\n",
    "\n",
    "KEY = \"YOUR_KEY_HERE\"\n",
    "date = datetime.datetime.now().strftime(\"%Y%m%d\")\n",
    "\n",
    "url = 'https://www.amazon.com/Lenovo-IdeaPad-Processor-Graphics-81VU00D1US/dp/B09BG85LRV/ref=sr_1_5?crid=118G74FASH4UX&keywords=laptop&qid=1669044690&sprefix=laptop%2Caps%2C1943&sr=8-5'\n",
    "\n",
    "headers = {\n",
    "    'dnt': '1',\n",
    "    'upgrade-insecure-requests': '1',\n",
    "    'user-agent': 'Mozilla/5.0 (Macintosh; Intel Mac OS X 10_15_4) AppleWebKit/537.36 (KHTML, like Gecko) Chrome/83.0.4103.61 Safari/537.36',\n",
    "    'accept': 'text/html,application/xhtml+xml,application/xml;q=0.9,image/webp,image/apng,*/*;q=0.8,application/signed-exchange;v=b3;q=0.9',\n",
    "    'sec-fetch-site': 'same-origin',\n",
    "    'sec-fetch-mode': 'navigate',\n",
    "    'sec-fetch-user': '?1',\n",
    "    'sec-fetch-dest': 'document',\n",
    "    'referer': 'https://www.amazon.com/',\n",
    "    'accept-language': 'en-GB,en-US;q=0.9,en;q=0.8',\n",
    "}\n",
    "\n",
    "payload = {\n",
    "    \"api-key\": KEY,\n",
    "    \"begin_date\": date,\n",
    "    \"end_date\": date,\n",
    "    \"q\": \"Donald Trump\"\n",
    "}\n",
    "\n",
    "\n",
    "#url = 'https://www.amazon.com/Lenovo-IdeaPad-Processor-Graphics-81VU00D1US/dp/B09BG85LRV/ref=sr_1_5?crid=118G74FASH4UX&keywords=laptop&qid=1669044690&sprefix=laptop%2Caps%2C1943&sr=8-5'\n",
    "\n",
    "#headers = {\"User-Agent\": \"Mozilla/5.0 (Windows NT 10.0; Win64; x64) AppleWebKit/537.36 (KHTML, like Gecko) Chrome/107.0.0.0 Safari/537.36\"}\n",
    "\n",
    "page = requests.get(url, headers=headers)\n",
    "\n",
    "soup1 = BeautifulSoup(page.content, 'html.parser')\n",
    "\n"
   ]
  },
  {
   "cell_type": "markdown",
   "id": "20493a30",
   "metadata": {},
   "source": [
    "parsing xml for downloading web page."
   ]
  },
  {
   "cell_type": "code",
   "execution_count": 3,
   "id": "4e648ae8",
   "metadata": {},
   "outputs": [],
   "source": [
    "page2 = requests.get(url, headers= headers).text\n",
    "soup3 = BeautifulSoup(page2, 'lxml')"
   ]
  },
  {
   "cell_type": "markdown",
   "id": "96329e91",
   "metadata": {},
   "source": [
    "# Checking status code."
   ]
  },
  {
   "cell_type": "code",
   "execution_count": 4,
   "id": "4ac4a28f",
   "metadata": {},
   "outputs": [
    {
     "data": {
      "text/plain": [
       "200"
      ]
     },
     "execution_count": 4,
     "metadata": {},
     "output_type": "execute_result"
    }
   ],
   "source": [
    "page.status_code"
   ]
  },
  {
   "cell_type": "markdown",
   "id": "c5fba440",
   "metadata": {},
   "source": [
    "Present website in an organized manner."
   ]
  },
  {
   "cell_type": "code",
   "execution_count": 5,
   "id": "c629f194",
   "metadata": {},
   "outputs": [],
   "source": [
    "soup2 = BeautifulSoup(soup1.prettify(), 'html.parser')"
   ]
  },
  {
   "cell_type": "markdown",
   "id": "d4bc7302",
   "metadata": {},
   "source": [
    "Scraping data"
   ]
  },
  {
   "cell_type": "code",
   "execution_count": 6,
   "id": "b5053489",
   "metadata": {},
   "outputs": [],
   "source": [
    "title = soup2.find(id='productTitle').get_text()"
   ]
  },
  {
   "cell_type": "code",
   "execution_count": 7,
   "id": "19c16aff",
   "metadata": {},
   "outputs": [],
   "source": [
    "title = title[13:]"
   ]
  },
  {
   "cell_type": "code",
   "execution_count": 8,
   "id": "bb82c308",
   "metadata": {},
   "outputs": [
    {
     "name": "stdout",
     "output_type": "stream",
     "text": [
      "Lenovo IdeaPad 1 Laptop, 14.0\" HD Display, Intel Celeron N4020, 4GB RAM, 64GB Storage, Intel UHD Graphics 600, Windows 11 in S Mode, Ice Blue\n",
      "           \n"
     ]
    }
   ],
   "source": [
    "print(title)"
   ]
  },
  {
   "cell_type": "code",
   "execution_count": 9,
   "id": "69586189",
   "metadata": {},
   "outputs": [
    {
     "data": {
      "text/plain": [
       "str"
      ]
     },
     "execution_count": 9,
     "metadata": {},
     "output_type": "execute_result"
    }
   ],
   "source": [
    "type(soup1.get_text())"
   ]
  },
  {
   "cell_type": "code",
   "execution_count": 10,
   "id": "e6e3bc0c",
   "metadata": {},
   "outputs": [],
   "source": [
    "with open('amazon.html' , 'w' , encoding=\"utf-8\") as f:\n",
    "    f.write(page2)"
   ]
  },
  {
   "cell_type": "code",
   "execution_count": 11,
   "id": "af83d576",
   "metadata": {},
   "outputs": [],
   "source": [
    "price = soup2.find(class_= 'a-price-whole').get_text()"
   ]
  },
  {
   "cell_type": "code",
   "execution_count": 12,
   "id": "70bce262",
   "metadata": {},
   "outputs": [
    {
     "name": "stdout",
     "output_type": "stream",
     "text": [
      "Lenovo IdeaPad 1 Laptop, 14.0\" HD Display, Intel Celeron N4020, 4GB RAM, 64GB Storage, Intel UHD Graphics 600, Windows 11 in S Mode, Ice Blue\n",
      "           \n",
      "199\n"
     ]
    }
   ],
   "source": [
    "price = price.strip()[:3]\n",
    "print(title)\n",
    "print(price)"
   ]
  },
  {
   "cell_type": "code",
   "execution_count": 13,
   "id": "65cac8ae",
   "metadata": {
    "scrolled": true
   },
   "outputs": [
    {
     "name": "stdout",
     "output_type": "stream",
     "text": [
      "153\n"
     ]
    }
   ],
   "source": [
    "print(len(title))"
   ]
  },
  {
   "cell_type": "code",
   "execution_count": 14,
   "id": "966d71ff",
   "metadata": {},
   "outputs": [],
   "source": [
    "rating = soup2.find(class_='a-icon a-icon-star a-star-4-5').get_text()"
   ]
  },
  {
   "cell_type": "code",
   "execution_count": 15,
   "id": "bd2cbd78",
   "metadata": {},
   "outputs": [],
   "source": [
    "rating = re.findall(r'\\d+\\.\\d+',rating)"
   ]
  },
  {
   "cell_type": "code",
   "execution_count": 16,
   "id": "a9e500db",
   "metadata": {},
   "outputs": [],
   "source": [
    "rating = float(rating[0])"
   ]
  },
  {
   "cell_type": "code",
   "execution_count": 17,
   "id": "1697dd38",
   "metadata": {},
   "outputs": [
    {
     "data": {
      "text/plain": [
       "4.3"
      ]
     },
     "execution_count": 17,
     "metadata": {},
     "output_type": "execute_result"
    }
   ],
   "source": [
    "rating"
   ]
  },
  {
   "cell_type": "code",
   "execution_count": 18,
   "id": "9ce7f664",
   "metadata": {},
   "outputs": [
    {
     "data": {
      "text/plain": [
       "float"
      ]
     },
     "execution_count": 18,
     "metadata": {},
     "output_type": "execute_result"
    }
   ],
   "source": [
    "type(rating)"
   ]
  },
  {
   "cell_type": "markdown",
   "id": "f1769c23",
   "metadata": {},
   "source": [
    "### Preparation of Dataset."
   ]
  },
  {
   "cell_type": "code",
   "execution_count": 19,
   "id": "ef78f579",
   "metadata": {},
   "outputs": [],
   "source": [
    "header= ['Title','Price','Date','Rating']"
   ]
  },
  {
   "cell_type": "code",
   "execution_count": 20,
   "id": "18fa95df",
   "metadata": {},
   "outputs": [
    {
     "name": "stdout",
     "output_type": "stream",
     "text": [
      "2022-11-25\n"
     ]
    }
   ],
   "source": [
    "today = datetime.date.today()\n",
    "print(today)"
   ]
  },
  {
   "cell_type": "code",
   "execution_count": 21,
   "id": "a2ede6d9",
   "metadata": {},
   "outputs": [],
   "source": [
    "data = [title,price,today,rating]"
   ]
  },
  {
   "cell_type": "markdown",
   "id": "615857cd",
   "metadata": {},
   "source": [
    "making csv"
   ]
  },
  {
   "cell_type": "code",
   "execution_count": 22,
   "id": "0e91e25e",
   "metadata": {},
   "outputs": [],
   "source": [
    "with open('Amazondataset.csv','w',newline='',encoding='UTF-8') as f:\n",
    "    writer = csv.writer(f)\n",
    "    writer.writerow(header)\n",
    "    writer.writerow(data)"
   ]
  },
  {
   "cell_type": "code",
   "execution_count": 23,
   "id": "9d618675",
   "metadata": {},
   "outputs": [
    {
     "data": {
      "text/html": [
       "<div>\n",
       "<style scoped>\n",
       "    .dataframe tbody tr th:only-of-type {\n",
       "        vertical-align: middle;\n",
       "    }\n",
       "\n",
       "    .dataframe tbody tr th {\n",
       "        vertical-align: top;\n",
       "    }\n",
       "\n",
       "    .dataframe thead th {\n",
       "        text-align: right;\n",
       "    }\n",
       "</style>\n",
       "<table border=\"1\" class=\"dataframe\">\n",
       "  <thead>\n",
       "    <tr style=\"text-align: right;\">\n",
       "      <th></th>\n",
       "      <th>Title</th>\n",
       "      <th>Price</th>\n",
       "      <th>Date</th>\n",
       "      <th>Rating</th>\n",
       "    </tr>\n",
       "  </thead>\n",
       "  <tbody>\n",
       "    <tr>\n",
       "      <th>0</th>\n",
       "      <td>Lenovo IdeaPad 1 Laptop, 14.0\" HD Display, Int...</td>\n",
       "      <td>199</td>\n",
       "      <td>2022-11-25</td>\n",
       "      <td>4.3</td>\n",
       "    </tr>\n",
       "  </tbody>\n",
       "</table>\n",
       "</div>"
      ],
      "text/plain": [
       "                                               Title  Price        Date  \\\n",
       "0  Lenovo IdeaPad 1 Laptop, 14.0\" HD Display, Int...    199  2022-11-25   \n",
       "\n",
       "   Rating  \n",
       "0     4.3  "
      ]
     },
     "execution_count": 23,
     "metadata": {},
     "output_type": "execute_result"
    }
   ],
   "source": [
    "pd.read_csv('Amazondataset.csv')"
   ]
  },
  {
   "cell_type": "code",
   "execution_count": 24,
   "id": "fc551955",
   "metadata": {},
   "outputs": [],
   "source": [
    "with open('Amazondataset.csv','a+',newline='',encoding='UTF-8') as f:\n",
    "    writer = csv.writer(f)\n",
    "    writer.writerow(data)"
   ]
  },
  {
   "cell_type": "code",
   "execution_count": 25,
   "id": "5920a75d",
   "metadata": {},
   "outputs": [],
   "source": [
    "def check():\n",
    "    KEY = \"YOUR_KEY_HERE\"\n",
    "    date = datetime.datetime.now().strftime(\"%Y%m%d\")\n",
    "    \n",
    "    url = 'https://www.amazon.com/Lenovo-IdeaPad-Processor-Graphics-81VU00D1US/dp/B09BG85LRV/ref=sr_1_5?crid=118G74FASH4UX&keywords=laptop&qid=1669044690&sprefix=laptop%2Caps%2C1943&sr=8-5'\n",
    "    \n",
    "    headers = {\n",
    "        'dnt': '1',\n",
    "        'upgrade-insecure-requests': '1',\n",
    "        'user-agent': 'Mozilla/5.0 (Macintosh; Intel Mac OS X 10_15_4) AppleWebKit/537.36 (KHTML, like Gecko) Chrome/83.0.4103.61 Safari/537.36',\n",
    "        'accept': 'text/html,application/xhtml+xml,application/xml;q=0.9,image/webp,image/apng,*/*;q=0.8,application/signed-exchange;v=b3;q=0.9',\n",
    "        'sec-fetch-site': 'same-origin',\n",
    "        'sec-fetch-mode': 'navigate',\n",
    "        'sec-fetch-user': '?1',\n",
    "        'sec-fetch-dest': 'document',\n",
    "        'referer': 'https://www.amazon.com/',\n",
    "        'accept-language': 'en-GB,en-US;q=0.9,en;q=0.8',\n",
    "    }\n",
    "    \n",
    "    payload = {\n",
    "        \"api-key\": KEY,\n",
    "        \"begin_date\": date,\n",
    "        \"end_date\": date,\n",
    "        \"q\": \"Donald Trump\"\n",
    "    }\n",
    "    \n",
    "    \n",
    "    #url = 'https://www.amazon.com/Lenovo-IdeaPad-Processor-Graphics-81VU00D1US/dp/B09BG85LRV/ref=sr_1_5?crid=118G74FASH4UX&keywords=laptop&qid=1669044690&sprefix=laptop%2Caps%2C1943&sr=8-5'\n",
    "    \n",
    "    #headers = {\"User-Agent\": \"Mozilla/5.0 (Windows NT 10.0; Win64; x64) AppleWebKit/537.36 (KHTML, like Gecko) Chrome/107.0.0.0 Safari/537.36\"}\n",
    "    \n",
    "    page = requests.get(url, headers=headers)\n",
    "    \n",
    "    soup1 = BeautifulSoup(page.content, 'html.parser')\n",
    "    \n",
    "    soup2 = BeautifulSoup(soup1.prettify(), 'html.parser')\n",
    "    title = soup2.find(id='productTitle').get_text()\n",
    "    title = title[13:]\n",
    "    price = soup2.find(class_= 'a-price-whole').get_text()\n",
    "    price = price.strip()[:3]\n",
    "    rating = soup2.find(class_='a-icon a-icon-star a-star-4-5').get_text()\n",
    "    rating = re.findall(r'\\d+\\.\\d+',rating)\n",
    "    rating = float(rating[0])\n",
    "    today = datetime.date.today()\n",
    "    header= ['Title','Price','Date','Rating']\n",
    "    data = [title,price,today,rating]\n",
    "    with open('Amazondataset.csv','a+',newline='',encoding='UTF-8') as f:\n",
    "        writer = csv.writer(f)\n",
    "        writer.writerow(data)"
   ]
  },
  {
   "cell_type": "code",
   "execution_count": 26,
   "id": "417463b2",
   "metadata": {},
   "outputs": [
    {
     "ename": "KeyboardInterrupt",
     "evalue": "",
     "output_type": "error",
     "traceback": [
      "\u001b[1;31m---------------------------------------------------------------------------\u001b[0m",
      "\u001b[1;31mKeyboardInterrupt\u001b[0m                         Traceback (most recent call last)",
      "\u001b[1;32m~\\AppData\\Local\\Temp\\ipykernel_13188\\336953318.py\u001b[0m in \u001b[0;36m<module>\u001b[1;34m\u001b[0m\n\u001b[0;32m      1\u001b[0m \u001b[1;32mwhile\u001b[0m\u001b[1;33m(\u001b[0m\u001b[1;32mTrue\u001b[0m\u001b[1;33m)\u001b[0m\u001b[1;33m:\u001b[0m\u001b[1;33m\u001b[0m\u001b[1;33m\u001b[0m\u001b[0m\n\u001b[0;32m      2\u001b[0m     \u001b[0mcheck\u001b[0m\u001b[1;33m(\u001b[0m\u001b[1;33m)\u001b[0m\u001b[1;33m\u001b[0m\u001b[1;33m\u001b[0m\u001b[0m\n\u001b[1;32m----> 3\u001b[1;33m     \u001b[0mtime\u001b[0m\u001b[1;33m.\u001b[0m\u001b[0msleep\u001b[0m\u001b[1;33m(\u001b[0m\u001b[1;36m5\u001b[0m\u001b[1;33m)\u001b[0m\u001b[1;33m\u001b[0m\u001b[1;33m\u001b[0m\u001b[0m\n\u001b[0m",
      "\u001b[1;31mKeyboardInterrupt\u001b[0m: "
     ]
    }
   ],
   "source": [
    "while(True):\n",
    "    check()\n",
    "    time.sleep(5)"
   ]
  },
  {
   "cell_type": "code",
   "execution_count": 27,
   "id": "c6787955",
   "metadata": {},
   "outputs": [
    {
     "data": {
      "text/html": [
       "<div>\n",
       "<style scoped>\n",
       "    .dataframe tbody tr th:only-of-type {\n",
       "        vertical-align: middle;\n",
       "    }\n",
       "\n",
       "    .dataframe tbody tr th {\n",
       "        vertical-align: top;\n",
       "    }\n",
       "\n",
       "    .dataframe thead th {\n",
       "        text-align: right;\n",
       "    }\n",
       "</style>\n",
       "<table border=\"1\" class=\"dataframe\">\n",
       "  <thead>\n",
       "    <tr style=\"text-align: right;\">\n",
       "      <th></th>\n",
       "      <th>Title</th>\n",
       "      <th>Price</th>\n",
       "      <th>Date</th>\n",
       "      <th>Rating</th>\n",
       "    </tr>\n",
       "  </thead>\n",
       "  <tbody>\n",
       "    <tr>\n",
       "      <th>0</th>\n",
       "      <td>Lenovo IdeaPad 1 Laptop, 14.0\" HD Display, Int...</td>\n",
       "      <td>199</td>\n",
       "      <td>2022-11-25</td>\n",
       "      <td>4.3</td>\n",
       "    </tr>\n",
       "    <tr>\n",
       "      <th>1</th>\n",
       "      <td>Lenovo IdeaPad 1 Laptop, 14.0\" HD Display, Int...</td>\n",
       "      <td>199</td>\n",
       "      <td>2022-11-25</td>\n",
       "      <td>4.3</td>\n",
       "    </tr>\n",
       "    <tr>\n",
       "      <th>2</th>\n",
       "      <td>Lenovo IdeaPad 1 Laptop, 14.0\" HD Display, Int...</td>\n",
       "      <td>259</td>\n",
       "      <td>2022-11-25</td>\n",
       "      <td>4.3</td>\n",
       "    </tr>\n",
       "  </tbody>\n",
       "</table>\n",
       "</div>"
      ],
      "text/plain": [
       "                                               Title  Price        Date  \\\n",
       "0  Lenovo IdeaPad 1 Laptop, 14.0\" HD Display, Int...    199  2022-11-25   \n",
       "1  Lenovo IdeaPad 1 Laptop, 14.0\" HD Display, Int...    199  2022-11-25   \n",
       "2  Lenovo IdeaPad 1 Laptop, 14.0\" HD Display, Int...    259  2022-11-25   \n",
       "\n",
       "   Rating  \n",
       "0     4.3  \n",
       "1     4.3  \n",
       "2     4.3  "
      ]
     },
     "execution_count": 27,
     "metadata": {},
     "output_type": "execute_result"
    }
   ],
   "source": [
    "pd.read_csv('Amazondataset.csv')"
   ]
  },
  {
   "cell_type": "code",
   "execution_count": null,
   "id": "8c1a84dd",
   "metadata": {},
   "outputs": [],
   "source": []
  }
 ],
 "metadata": {
  "kernelspec": {
   "display_name": "Python 3 (ipykernel)",
   "language": "python",
   "name": "python3"
  },
  "language_info": {
   "codemirror_mode": {
    "name": "ipython",
    "version": 3
   },
   "file_extension": ".py",
   "mimetype": "text/x-python",
   "name": "python",
   "nbconvert_exporter": "python",
   "pygments_lexer": "ipython3",
   "version": "3.7.13"
  }
 },
 "nbformat": 4,
 "nbformat_minor": 5
}
